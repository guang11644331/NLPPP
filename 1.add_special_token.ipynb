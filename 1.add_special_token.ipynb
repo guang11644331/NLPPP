{
 "cells": [
  {
   "cell_type": "markdown",
   "id": "bbb03ec9-cd76-42ec-924c-8b59119e1768",
   "metadata": {
    "tags": []
   },
   "source": [
    "## Add_token_to_vocab:"
   ]
  },
  {
   "cell_type": "code",
   "execution_count": 3,
   "id": "795090fc-38d0-4115-a3db-f5fd9e519a0a",
   "metadata": {},
   "outputs": [],
   "source": [
    "from transformers import DistilBertTokenizer"
   ]
  },
  {
   "cell_type": "code",
   "execution_count": 69,
   "id": "3fb0230b-700c-4d77-b75d-510cc19906c7",
   "metadata": {},
   "outputs": [],
   "source": [
    "model_name1 = '../data/models/distilbert-base-cased'\n",
    "model_name2 = 'distilbert-base-cased'\n",
    "tokenizer_my = DistilBertTokenizer.from_pretrained(model_name1)\n",
    "tokenizer_orig = DistilBertTokenizer.from_pretrained(model_name2)"
   ]
  },
  {
   "cell_type": "markdown",
   "id": "b3a3b591-7c97-459b-ba52-8d5991883908",
   "metadata": {},
   "source": [
    "## 方法一："
   ]
  },
  {
   "cell_type": "code",
   "execution_count": 70,
   "id": "7657c8ce-bd7a-400a-9e49-639199355b2f",
   "metadata": {},
   "outputs": [
    {
     "data": {
      "text/plain": [
       "(28996, 28996)"
      ]
     },
     "execution_count": 70,
     "metadata": {},
     "output_type": "execute_result"
    }
   ],
   "source": [
    "len(tokenizer_my), len(tokenizer_orig)"
   ]
  },
  {
   "cell_type": "code",
   "execution_count": 71,
   "id": "086e5c0a-6d5f-4189-89d1-09765a1a1cba",
   "metadata": {},
   "outputs": [
    {
     "name": "stdout",
     "output_type": "stream",
     "text": [
      "['cat', 'on', 'the', '[UNK]', '[UNK]', '[UNK]', '[', 'A', ']', '<', 'A', '>', 'y', '##yd', '##sy', '##yd', '##s']\n"
     ]
    }
   ],
   "source": [
    "# 默认的词表\n",
    "print(tokenizer_orig.tokenize('cat on the 我我我 [A] <A> yydsyyds'))"
   ]
  },
  {
   "cell_type": "markdown",
   "id": "1b06356c-6242-4c36-b569-7aeeef09e1de",
   "metadata": {},
   "source": [
    "![](pics/vocab.png)"
   ]
  },
  {
   "cell_type": "code",
   "execution_count": 72,
   "id": "22b1c008-28e0-4c6e-a679-f548c93d01c1",
   "metadata": {},
   "outputs": [
    {
     "name": "stdout",
     "output_type": "stream",
     "text": [
      "['cat', 'on', 'the', '我', '我', '我', '[', 'A', ']', '<', 'A', '>', 'yyds', '##y', '##yd', '##s']\n"
     ]
    }
   ],
   "source": [
    "# 修改后的的词表，会发现yyds只能切一次，[A]和<A>没效果\n",
    "print(tokenizer_my.tokenize('cat on the 我我我 [A] <A> yydsyyds'))  "
   ]
  },
  {
   "cell_type": "code",
   "execution_count": 73,
   "id": "4a72e4d3-547c-454d-8d2c-986fdcc14fbc",
   "metadata": {},
   "outputs": [
    {
     "name": "stdout",
     "output_type": "stream",
     "text": [
      "['cat', 'on', 'the', '我', '我', '我', '[A]', '<A>', 'yyds', 'yyds']\n"
     ]
    }
   ],
   "source": [
    "# 变成 special_tokens 就好了\n",
    "tokenizer_my.add_tokens(['[A]', '<A>', 'yyds'], special_tokens=True)  \n",
    "print(tokenizer_my.tokenize('cat on the 我我我 [A] <A> yydsyyds'))"
   ]
  },
  {
   "cell_type": "code",
   "execution_count": 74,
   "id": "dbfb9078-dd7c-47c3-8b8d-b604da846805",
   "metadata": {},
   "outputs": [
    {
     "data": {
      "text/plain": [
       "(28996, 28996)"
      ]
     },
     "execution_count": 74,
     "metadata": {},
     "output_type": "execute_result"
    }
   ],
   "source": [
    "# 词表大小没有变\n",
    "len(tokenizer_my), len(tokenizer_orig)"
   ]
  },
  {
   "cell_type": "code",
   "execution_count": 75,
   "id": "4b4fd250-b79a-49d0-8da9-206eb376cb8c",
   "metadata": {},
   "outputs": [
    {
     "name": "stdout",
     "output_type": "stream",
     "text": [
      "[101, 5855, 1113, 1103, 1, 1, 1, 3, 4, 2, 2, 102]\n"
     ]
    }
   ],
   "source": [
    "# 如上图，id也是对的\n",
    "print(tokenizer_my('cat on the 我我我 [A] <A> yydsyyds')['input_ids'])"
   ]
  },
  {
   "cell_type": "code",
   "execution_count": 77,
   "id": "1dc5e659-69d9-4a8a-a55d-5ab3aaaaeceb",
   "metadata": {},
   "outputs": [
    {
     "data": {
      "text/plain": [
       "{'unk_token': '[UNK]',\n",
       " 'sep_token': '[SEP]',\n",
       " 'pad_token': '[PAD]',\n",
       " 'cls_token': '[CLS]',\n",
       " 'mask_token': '[MASK]'}"
      ]
     },
     "execution_count": 77,
     "metadata": {},
     "output_type": "execute_result"
    }
   ],
   "source": [
    "# 这里没查到\n",
    "tokenizer_my.special_tokens_map  "
   ]
  },
  {
   "cell_type": "markdown",
   "id": "d2495203-fd1a-4ef4-86ff-86b5b361a594",
   "metadata": {},
   "source": [
    "___\n",
    "## 方法二（推荐）："
   ]
  },
  {
   "cell_type": "code",
   "execution_count": 78,
   "id": "805d543c-2974-418f-af87-f2caf12949e1",
   "metadata": {},
   "outputs": [
    {
     "name": "stdout",
     "output_type": "stream",
     "text": [
      "['cat', 'on', 'the', '[UNK]', '[UNK]', '[UNK]', '[', 'A', ']', '<', 'A', '>', 'y', '##yd', '##sy', '##yd', '##s']\n"
     ]
    }
   ],
   "source": [
    "text = 'cat on the 我我我 [A] <A> yydsyyds'\n",
    "print(tokenizer_orig.tokenize(text))"
   ]
  },
  {
   "cell_type": "code",
   "execution_count": 79,
   "id": "a7b3a517-7f20-4c31-a9af-b4a19b126d43",
   "metadata": {},
   "outputs": [
    {
     "data": {
      "text/plain": [
       "{'unk_token': '[UNK]',\n",
       " 'sep_token': '[SEP]',\n",
       " 'pad_token': '[PAD]',\n",
       " 'cls_token': '[CLS]',\n",
       " 'mask_token': '[MASK]'}"
      ]
     },
     "execution_count": 79,
     "metadata": {},
     "output_type": "execute_result"
    }
   ],
   "source": [
    "tokenizer_orig.special_tokens_map"
   ]
  },
  {
   "cell_type": "code",
   "execution_count": 80,
   "id": "c666bec1-8971-4c55-9602-0d2144901595",
   "metadata": {},
   "outputs": [
    {
     "data": {
      "text/plain": [
       "29000"
      ]
     },
     "execution_count": 80,
     "metadata": {},
     "output_type": "execute_result"
    }
   ],
   "source": [
    "# 没有修改过词表，追加新词后词表会变长\n",
    "tokenizer_orig.add_special_tokens({'additional_special_tokens': ['我', 'yyds', '[A]', '<A>']})\n",
    "len(tokenizer_orig)"
   ]
  },
  {
   "cell_type": "code",
   "execution_count": 81,
   "id": "4f4a34dc-b315-45c4-8151-0b367c2f6026",
   "metadata": {},
   "outputs": [
    {
     "data": {
      "text/plain": [
       "{'unk_token': '[UNK]',\n",
       " 'sep_token': '[SEP]',\n",
       " 'pad_token': '[PAD]',\n",
       " 'cls_token': '[CLS]',\n",
       " 'mask_token': '[MASK]',\n",
       " 'additional_special_tokens': ['我', 'yyds', '[A]', '<A>']}"
      ]
     },
     "execution_count": 81,
     "metadata": {},
     "output_type": "execute_result"
    }
   ],
   "source": [
    "tokenizer_orig.special_tokens_map"
   ]
  },
  {
   "cell_type": "code",
   "execution_count": 48,
   "id": "babcb271-90a9-4ddc-ae23-fa54421fb247",
   "metadata": {},
   "outputs": [],
   "source": [
    "# 然后一定要加这一句\n",
    "# model.resize_token_embeddings(len(tokenizer))"
   ]
  },
  {
   "cell_type": "markdown",
   "id": "a2ff0db5-87b0-422b-8460-361e483ded15",
   "metadata": {},
   "source": [
    "[reference 1: In [42]](https://www.kaggle.com/code/jhoward/iterate-like-a-grandmaster)"
   ]
  },
  {
   "cell_type": "markdown",
   "id": "dbc9af3e-0501-4d34-98c7-4f01469d14cb",
   "metadata": {},
   "source": [
    "TODO: \n",
    "\n",
    "这两个的区别，前者追加的词 tokenizer_my.special_tokens_map  查不到\n",
    "```python\n",
    "tokenizer_my.add_tokens(, special_tokens=True) \n",
    "tokenizer_orig.add_special_tokens()\n",
    "tokenizer_my.special_tokens_map \n",
    "```"
   ]
  },
  {
   "cell_type": "code",
   "execution_count": null,
   "id": "6faf67f7-92eb-4b2a-b90a-567037f4c1b9",
   "metadata": {},
   "outputs": [],
   "source": []
  }
 ],
 "metadata": {
  "kernelspec": {
   "display_name": "Python [conda env:py38] *",
   "language": "python",
   "name": "conda-env-py38-py"
  },
  "language_info": {
   "codemirror_mode": {
    "name": "ipython",
    "version": 3
   },
   "file_extension": ".py",
   "mimetype": "text/x-python",
   "name": "python",
   "nbconvert_exporter": "python",
   "pygments_lexer": "ipython3",
   "version": "3.8.13"
  },
  "toc-autonumbering": false,
  "toc-showmarkdowntxt": true
 },
 "nbformat": 4,
 "nbformat_minor": 5
}
